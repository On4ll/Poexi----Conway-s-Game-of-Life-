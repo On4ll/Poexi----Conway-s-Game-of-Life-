{
 "cells": [
  {
   "cell_type": "code",
   "execution_count": 9,
   "metadata": {},
   "outputs": [],
   "source": [
    "import random\n",
    "import time\n",
    "from IPython.display import clear_output"
   ]
  },
  {
   "cell_type": "code",
   "execution_count": 10,
   "metadata": {},
   "outputs": [],
   "source": [
    "def is_valid_index(grid, x: int, y: int): # Tells if the given point is in the matrix\n",
    "    xMax = len(grid)\n",
    "    yMax = len(grid[0])\n",
    "    xMin = 0\n",
    "    yMin = 0\n",
    "\n",
    "    if((x >= xMin and x < xMax) and (y >= yMin and y < yMax)):\n",
    "        return True\n",
    "    return False\n",
    "\n",
    "# Tells how many neighbours are there\n",
    "def point_processor(grid, x: int, y: int): # x is columns and y is rows\n",
    "    to_process = []\n",
    "\n",
    "    # Cycle through the 8 neighbours of the given cell and try to add them to it's neighbour list\n",
    "    for i in range(-1, 2):\n",
    "        for j in range(-1, 2):\n",
    "            if(i == 0 and j == 0): # Skip when the index refers to the cell itself\n",
    "                continue\n",
    "            if(is_valid_index(grid, x+i, y+j)):\n",
    "                to_process.append(grid[x+i][y+j])\n",
    "    _sum = sum(to_process)\n",
    "\n",
    "    return _sum\n",
    "\n",
    "# Generates the next state of the grid\n",
    "def grid_processor(grid):\n",
    "    #processed_grid = grid.copy()    NEVER USE THIS ON MULTI DIMENSIONAL MUTABLE ARRAY, CREATING A SHALLOW COPY AND MESSING UP EVERYTHING !! UGHHHHH\n",
    "    rows = len(grid)\n",
    "    cols = len(grid[0])\n",
    "\n",
    "    processed_grid = [[-1 for _ in range(cols)] for _ in range(rows)]\n",
    "    sumMap = [[-1 for _ in range(cols)] for _ in range(rows)]\n",
    "\n",
    "    for r in range(rows):\n",
    "        for c in range(cols):\n",
    "            _sum = point_processor(grid, r, c)\n",
    "            sumMap[r][c] = _sum\n",
    "            if(_sum == 2 or _sum == 3):\n",
    "                processed_grid[r][c] = 1\n",
    "            else:\n",
    "                processed_grid[r][c] = 0\n",
    "    #print(\"sumMap: \")\n",
    "    #[print(i) for i in sumMap]\n",
    "    return processed_grid\n",
    "\n",
    "def grid_mask_maker(grid):\n",
    "    rows = len(grid)\n",
    "    cols = len(grid[0])\n",
    "\n",
    "    grid_mask = [[-1 for _ in range(cols)] for _ in range(rows)]\n",
    "\n",
    "    for r in range(rows):\n",
    "        for c in range(cols):\n",
    "            if grid[r][c] == 0:\n",
    "                grid_mask[r][c] = '.'\n",
    "            else:\n",
    "                grid_mask[r][c] = '■'\n",
    "    #print(grid_mask)\n",
    "    return grid_mask"
   ]
  },
  {
   "cell_type": "code",
   "execution_count": 11,
   "metadata": {},
   "outputs": [
    {
     "name": "stdout",
     "output_type": "stream",
     "text": [
      "6\n"
     ]
    }
   ],
   "source": [
    "rows, cols = 25, 25\n",
    "grid = []\n",
    "density = 100\n",
    "\n",
    "for _ in range(rows):\n",
    "    temp = []\n",
    "    for _ in range(cols):\n",
    "        t = random.randint(0,density)\n",
    "        temp.append(0 if t > 1 else t)\n",
    "    grid.append(temp)\n",
    "\n",
    "total = sum([sum(i) for i in grid])\n",
    "print(total)\n",
    "#grid"
   ]
  },
  {
   "cell_type": "code",
   "execution_count": 12,
   "metadata": {},
   "outputs": [
    {
     "name": "stdout",
     "output_type": "stream",
     "text": [
      ".  ■  .  ■  ■  .  .  ■  ■  ■  ■  ■  ■  ■  ■  .  .  ■  ■  .  .  ■  .  ■  ■  \n",
      "■  ■  .  ■  ■  .  .  .  .  .  .  .  ■  ■  .  .  .  .  ■  ■  ■  ■  .  .  .  \n",
      "■  .  ■  ■  ■  .  .  .  .  .  .  ■  .  ■  ■  .  .  .  ■  ■  .  .  ■  .  ■  \n",
      "■  .  .  ■  ■  .  .  .  .  .  ■  ■  .  .  .  ■  ■  .  ■  .  .  .  .  .  ■  \n",
      "■  .  .  .  .  .  .  .  ■  .  ■  .  .  .  .  ■  .  .  ■  ■  ■  ■  ■  .  ■  \n",
      "■  .  ■  .  .  .  ■  .  .  .  .  .  .  .  ■  ■  .  ■  ■  ■  ■  .  ■  ■  .  \n",
      "■  .  .  .  ■  .  ■  .  ■  .  .  .  ■  ■  .  ■  .  .  ■  ■  .  .  .  .  ■  \n",
      ".  .  ■  .  .  ■  ■  .  .  ■  .  ■  .  .  .  .  .  .  .  .  ■  ■  ■  .  .  \n",
      "■  .  ■  .  ■  .  .  .  .  .  .  .  .  .  .  .  .  .  .  ■  ■  .  .  ■  ■  \n",
      "■  .  ■  .  ■  .  .  ■  ■  ■  ■  ■  .  .  .  .  .  .  ■  ■  .  .  .  ■  .  \n",
      "■  .  .  .  .  .  .  .  .  .  ■  .  ■  ■  .  .  .  .  ■  .  .  .  .  ■  ■  \n",
      "■  .  .  .  .  .  ■  .  ■  .  .  .  ■  ■  ■  ■  .  .  .  ■  ■  .  .  ■  .  \n",
      "■  ■  .  .  .  .  .  .  .  ■  .  .  ■  .  ■  .  .  .  .  .  ■  ■  ■  ■  ■  \n",
      "■  ■  .  ■  .  .  .  ■  ■  .  .  .  ■  ■  ■  ■  .  .  .  .  .  .  .  ■  ■  \n",
      "■  .  .  .  .  ■  .  ■  ■  .  .  ■  ■  ■  ■  ■  .  .  .  .  .  ■  .  ■  ■  \n",
      ".  ■  ■  .  .  .  .  ■  .  ■  ■  .  ■  .  ■  ■  ■  .  ■  ■  ■  ■  .  .  ■  \n",
      ".  ■  .  .  .  .  .  .  .  ■  ■  .  .  .  ■  ■  ■  ■  ■  ■  .  .  .  ■  ■  \n",
      ".  ■  ■  .  .  .  .  .  .  ■  ■  ■  ■  ■  ■  ■  ■  .  .  .  .  .  .  .  ■  \n",
      "■  .  .  .  .  .  .  .  ■  ■  ■  ■  ■  .  .  ■  ■  .  .  ■  ■  ■  .  ■  ■  \n",
      ".  ■  .  .  .  .  ■  ■  .  ■  ■  .  .  .  .  .  .  .  ■  ■  .  ■  ■  ■  .  \n",
      "■  ■  ■  .  ■  ■  ■  ■  ■  .  ■  .  ■  .  .  ■  .  .  ■  ■  .  ■  ■  ■  .  \n",
      ".  ■  ■  ■  ■  ■  ■  ■  .  .  .  .  ■  .  ■  ■  .  .  .  ■  .  ■  ■  ■  .  \n",
      "■  .  .  ■  .  .  .  .  .  .  .  ■  .  .  ■  ■  .  .  ■  .  .  .  ■  ■  .  \n",
      "■  .  .  .  ■  .  .  ■  ■  .  .  .  .  .  ■  ■  .  ■  .  .  .  .  .  .  ■  \n",
      "■  .  .  ■  ■  .  .  .  ■  ■  .  ■  .  ■  ■  ■  .  .  ■  ■  .  ■  ■  ■  .  \n"
     ]
    },
    {
     "ename": "KeyboardInterrupt",
     "evalue": "",
     "output_type": "error",
     "traceback": [
      "\u001b[1;31m---------------------------------------------------------------------------\u001b[0m",
      "\u001b[1;31mKeyboardInterrupt\u001b[0m                         Traceback (most recent call last)",
      "Cell \u001b[1;32mIn[12], line 11\u001b[0m\n\u001b[0;32m      9\u001b[0m         \u001b[38;5;28mprint\u001b[39m(\u001b[38;5;124mf\u001b[39m\u001b[38;5;124m'\u001b[39m\u001b[38;5;132;01m{\u001b[39;00mgrid_mask[r][c]\u001b[38;5;132;01m:\u001b[39;00m\u001b[38;5;124m <3\u001b[39m\u001b[38;5;132;01m}\u001b[39;00m\u001b[38;5;124m'\u001b[39m, end\u001b[38;5;241m=\u001b[39m\u001b[38;5;124m'\u001b[39m\u001b[38;5;124m'\u001b[39m)\n\u001b[0;32m     10\u001b[0m     \u001b[38;5;28mprint\u001b[39m()\n\u001b[1;32m---> 11\u001b[0m time\u001b[38;5;241m.\u001b[39msleep(\u001b[38;5;241m0.15\u001b[39m)\n\u001b[0;32m     12\u001b[0m clear_output(wait\u001b[38;5;241m=\u001b[39m\u001b[38;5;28;01mTrue\u001b[39;00m)\n",
      "\u001b[1;31mKeyboardInterrupt\u001b[0m: "
     ]
    }
   ],
   "source": [
    "generations = 5000\n",
    "grid_mask = []\n",
    "\n",
    "for i in range(generations):\n",
    "    grid = grid_processor(grid)\n",
    "    grid_mask = grid_mask_maker(grid)\n",
    "    for r in range(rows):\n",
    "        for c in range(cols):\n",
    "            print(f'{grid_mask[r][c]: <3}', end='')\n",
    "        print()\n",
    "    time.sleep(0.15)\n",
    "    clear_output(wait=True)"
   ]
  },
  {
   "cell_type": "code",
   "execution_count": null,
   "metadata": {},
   "outputs": [
    {
     "name": "stdout",
     "output_type": "stream",
     "text": [
      "■\n"
     ]
    }
   ],
   "source": [
    "print(\"\\u25A0\")\n"
   ]
  }
 ],
 "metadata": {
  "kernelspec": {
   "display_name": "base",
   "language": "python",
   "name": "python3"
  },
  "language_info": {
   "codemirror_mode": {
    "name": "ipython",
    "version": 3
   },
   "file_extension": ".py",
   "mimetype": "text/x-python",
   "name": "python",
   "nbconvert_exporter": "python",
   "pygments_lexer": "ipython3",
   "version": "3.11.5"
  }
 },
 "nbformat": 4,
 "nbformat_minor": 2
}
