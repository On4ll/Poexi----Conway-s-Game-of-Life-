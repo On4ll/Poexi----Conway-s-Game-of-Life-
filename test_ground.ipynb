{
 "cells": [
  {
   "cell_type": "code",
   "execution_count": 70,
   "metadata": {},
   "outputs": [],
   "source": [
    "grid = [\n",
    "    [1, 3, 5],\n",
    "    [1, 3, 5],\n",
    "    [1, 3, 5],\n",
    "    [1, 3, 5]\n",
    "]\n",
    "\n",
    "def is_valid_index(grid, x, y):\n",
    "    xMax = len(grid)\n",
    "    yMax = len(grid[0])\n",
    "    xMin = 0\n",
    "    yMin = 0\n",
    "\n",
    "    #print(x, y)\n",
    "\n",
    "    if((x >= xMin and x < xMax) and (y >= yMin and y < yMax)):\n",
    "        return True\n",
    "    return False\n",
    "\n",
    "def kernel_processor(grid, x: int, y: int):\n",
    "    to_process = []\n",
    "\n",
    "    #print(f'{x}, {y} -->')\n",
    "\n",
    "    # Cycle through the 8 neighbours of the given cell and try to add them to it's neighbour list\n",
    "    for i in range(-1, 2):\n",
    "        for j in range(-1, 2):\n",
    "            if(i == 0 and j == 0): # Skip when the index refers to the cell itself\n",
    "                continue\n",
    "            if(is_valid_index(grid, x+i, y+j)):\n",
    "                to_process.append(grid[x+i][y+j])\n",
    "\n",
    "    return to_process"
   ]
  },
  {
   "cell_type": "code",
   "execution_count": 71,
   "metadata": {},
   "outputs": [
    {
     "name": "stdout",
     "output_type": "stream",
     "text": [
      "[3, 1, 3]\n",
      "[1, 3, 3, 1, 3]\n",
      "[1, 3, 3, 1, 3]\n",
      "[1, 5, 1, 3, 5]\n",
      "[1, 3, 5, 1, 5, 1, 3, 5]\n",
      "[1, 3, 5, 1, 5, 1, 3, 5]\n",
      "[3, 3, 5]\n",
      "[3, 5, 3, 3, 5]\n",
      "[3, 5, 3, 3, 5]\n",
      "[5, 5]\n",
      "[5, 5, 5]\n",
      "[5, 5, 5]\n"
     ]
    }
   ],
   "source": [
    "for y in range(len(grid)):\n",
    "    for x in range(len(grid[0])):\n",
    "        print(kernel_processor(grid, x, y))"
   ]
  },
  {
   "cell_type": "code",
   "execution_count": 75,
   "metadata": {},
   "outputs": [],
   "source": [
    "grid = [\n",
    "    [1, 2, 3],\n",
    "    [4, 5, 5],\n",
    "    [7, 8, 9],\n",
    "    [10, 11, 12]\n",
    "]\n",
    "\n",
    "def is_valid_index(grid, y, x):\n",
    "    xMax = len(grid[0])\n",
    "    yMax = len(grid)\n",
    "    xMin = 0\n",
    "    yMin = 0\n",
    "\n",
    "    #print(x, y)\n",
    "\n",
    "    if((x >= xMin and x < xMax) and (y >= yMin and y < yMax)):\n",
    "        return True\n",
    "    return False\n",
    "\n",
    "def kernel_processor(grid, x: int, y: int):\n",
    "    to_process = []\n",
    "\n",
    "    #print(f'{x}, {y} -->')\n",
    "\n",
    "    # Cycle through the 8 neighbours of the given cell and try to add them to it's neighbour list\n",
    "    for i in range(-1, 2):\n",
    "        for j in range(-1, 2):\n",
    "            if(i == 0 and j == 0): # Skip when the index refers to the cell itself\n",
    "                continue\n",
    "            if(is_valid_index(grid, y+i, x+j)):\n",
    "                to_process.append(grid[y+i][x+j])\n",
    "\n",
    "    return to_process"
   ]
  }
 ],
 "metadata": {
  "kernelspec": {
   "display_name": "base",
   "language": "python",
   "name": "python3"
  },
  "language_info": {
   "codemirror_mode": {
    "name": "ipython",
    "version": 3
   },
   "file_extension": ".py",
   "mimetype": "text/x-python",
   "name": "python",
   "nbconvert_exporter": "python",
   "pygments_lexer": "ipython3",
   "version": "3.11.5"
  }
 },
 "nbformat": 4,
 "nbformat_minor": 2
}
